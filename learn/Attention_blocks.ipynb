{
 "cells": [
  {
   "cell_type": "code",
   "execution_count": 1,
   "metadata": {},
   "outputs": [
    {
     "name": "stderr",
     "output_type": "stream",
     "text": [
      "e:\\CONDA\\envs\\mmlab+gradio\\lib\\site-packages\\tqdm\\auto.py:21: TqdmWarning: IProgress not found. Please update jupyter and ipywidgets. See https://ipywidgets.readthedocs.io/en/stable/user_install.html\n",
      "  from .autonotebook import tqdm as notebook_tqdm\n"
     ]
    }
   ],
   "source": [
    "import torch\n",
    "import torch.nn as nn\n",
    "import torch.nn.functional as F"
   ]
  },
  {
   "cell_type": "code",
   "execution_count": 4,
   "metadata": {},
   "outputs": [],
   "source": [
    "# linear cut the x into (0, 6) then devide 6 to (0, 1)\n",
    "class h_sigmoid(nn.Module):\n",
    "    def __init__(self, inplace=True):\n",
    "        super(h_sigmoid, self).__init__()\n",
    "        self.relu = nn.ReLU6(inplace=inplace)\n",
    "\n",
    "    def forward(self, x):\n",
    "        return self.relu(x + 3) / 6\n",
    "\n",
    "# then x * x / x * 1 / x * 0\n",
    "class h_swish(nn.Module):\n",
    "    def __init__(self, inplace=True):\n",
    "        super(h_swish, self).__init__()\n",
    "        self.sigmoid = h_sigmoid(inplace=inplace)\n",
    "\n",
    "    def forward(self, x):\n",
    "        return x * self.sigmoid(x)\n"
   ]
  },
  {
   "cell_type": "code",
   "execution_count": 43,
   "metadata": {},
   "outputs": [
    {
     "name": "stdout",
     "output_type": "stream",
     "text": [
      "tensor([-6.8560,  5.1842, -2.7119,  0.4446,  2.0827, 13.4886,  0.0136, -4.9741,\n",
      "        -0.5176,  3.2783], grad_fn=<MulBackward0>)\n",
      "============================\n",
      "tensor([-0.0000e+00,  5.1842e+00, -1.3021e-01,  2.5521e-01,  1.7643e+00,\n",
      "         1.3489e+01,  6.8293e-03, -0.0000e+00, -2.1414e-01,  3.2783e+00],\n",
      "       grad_fn=<MulBackward0>)\n"
     ]
    }
   ],
   "source": [
    "# the hswish will make all the params into range like [0, 1] * x\n",
    "a = torch.randn((10,), requires_grad=True) * 5\n",
    "print(a)\n",
    "print('============================')\n",
    "print(h_swish()(a))"
   ]
  },
  {
   "cell_type": "code",
   "execution_count": 48,
   "metadata": {},
   "outputs": [],
   "source": [
    "# the coordinate attention\n",
    "class CoordAtt(nn.Module):\n",
    "    \n",
    "    def __init__(self, inp, oup, reduction=32):\n",
    "        super(CoordAtt, self).__init__()\n",
    "        self.pool_h = nn.AdaptiveAvgPool2d((None, 1))\n",
    "        self.pool_w = nn.AdaptiveAvgPool2d((1, None))\n",
    "\n",
    "        mip = max(8, inp // reduction)\n",
    "\n",
    "        self.conv1 = nn.Conv2d(inp, mip, kernel_size=1, stride=1, padding=0)\n",
    "        self.bn1 = nn.BatchNorm2d(mip)\n",
    "        self.act = h_swish()\n",
    "        \n",
    "        self.conv_h = nn.Conv2d(mip, oup, kernel_size=1, stride=1, padding=0)\n",
    "        self.conv_w = nn.Conv2d(mip, oup, kernel_size=1, stride=1, padding=0)\n",
    "        \n",
    "\n",
    "    def forward(self, x):\n",
    "        identity = x\n",
    "        \n",
    "        n,c,h,w = x.size()\n",
    "        x_h = self.pool_h(x)\n",
    "        x_w = self.pool_w(x).permute(0, 1, 3, 2)\n",
    "        print(f\"horizontal: {x_h.size()}, vertical: {x_w.size()}\")\n",
    "\n",
    "        y = torch.cat([x_h, x_w], dim=2)\n",
    "        print(y.size())\n",
    "        y = self.conv1(y)\n",
    "        print(y.size())\n",
    "        y = self.bn1(y)\n",
    "        print(y.size())\n",
    "        y = self.act(y) \n",
    "        print(y.size())\n",
    "        \n",
    "        x_h, x_w = torch.split(y, [h, w], dim=2)\n",
    "        x_w = x_w.permute(0, 1, 3, 2)\n",
    "        print(f\"horizontal: {x_h.size()}, vertical: {x_w.size()}\")\n",
    "\n",
    "        a_h = self.conv_h(x_h).sigmoid()\n",
    "        a_w = self.conv_w(x_w).sigmoid()\n",
    "        print(f\"horizontal a_h : {a_h.size()}, vertical a_w: {a_w.size()}\")\n",
    "\n",
    "        out = identity * a_w * a_h\n",
    "\n",
    "        return out"
   ]
  },
  {
   "cell_type": "code",
   "execution_count": 51,
   "metadata": {},
   "outputs": [
    {
     "name": "stdout",
     "output_type": "stream",
     "text": [
      "horizontal: torch.Size([1, 512, 1024, 1]), vertical: torch.Size([1, 512, 1024, 1])\n",
      "torch.Size([1, 512, 2048, 1])\n",
      "torch.Size([1, 16, 2048, 1])\n",
      "torch.Size([1, 16, 2048, 1])\n",
      "torch.Size([1, 16, 2048, 1])\n",
      "horizontal: torch.Size([1, 16, 1024, 1]), vertical: torch.Size([1, 16, 1, 1024])\n",
      "horizontal a_h : torch.Size([1, 512, 1024, 1]), vertical a_w: torch.Size([1, 512, 1, 1024])\n"
     ]
    },
    {
     "data": {
      "text/plain": [
       "tensor([[[[ 3.5031e-01,  5.0381e-01, -6.8972e-02,  ...,  2.4235e-01,\n",
       "           -3.2165e-02, -2.3709e-01],\n",
       "          [-4.9914e-01, -9.5855e-02,  3.5843e-01,  ...,  2.0877e-01,\n",
       "            1.7718e-01,  2.3058e-01],\n",
       "          [-2.8197e-01, -3.1710e-01,  1.4525e-01,  ...,  4.1460e-02,\n",
       "            1.0780e+00, -7.5117e-02],\n",
       "          ...,\n",
       "          [ 1.7511e-02, -9.0027e-01,  3.4201e-02,  ...,  2.5167e-01,\n",
       "            9.5652e-02, -6.0967e-02],\n",
       "          [ 5.9386e-01, -3.6653e-01,  1.0572e-02,  ..., -7.2872e-01,\n",
       "           -5.0225e-01,  3.0172e-01],\n",
       "          [-7.2008e-01, -3.5814e-01,  1.8359e-01,  ..., -4.8479e-01,\n",
       "           -1.3253e-02, -2.6786e-01]],\n",
       "\n",
       "         [[-2.8347e-01,  2.3336e-01, -2.2689e-01,  ..., -1.2091e-01,\n",
       "            1.8717e-01,  1.0198e-01],\n",
       "          [-1.4968e-01,  4.5618e-02,  7.2103e-01,  ...,  1.2494e-01,\n",
       "           -9.4589e-02, -2.3135e-02],\n",
       "          [-1.7523e-01, -2.0264e-01, -1.4485e-01,  ..., -1.8179e-02,\n",
       "            2.9364e-01, -2.8330e-01],\n",
       "          ...,\n",
       "          [-3.3843e-01,  1.1692e-01, -1.0649e-01,  ..., -7.1920e-02,\n",
       "            5.4755e-02,  3.0923e-01],\n",
       "          [ 3.4130e-01, -2.2324e-02,  3.8865e-01,  ...,  4.1518e-02,\n",
       "           -1.8262e-02, -2.6213e-01],\n",
       "          [ 4.0529e-01, -1.2064e-01,  1.0988e-01,  ...,  1.5579e-01,\n",
       "            1.0236e-01, -2.2783e-01]],\n",
       "\n",
       "         [[-1.2033e-01, -2.0438e-01,  4.5323e-01,  ...,  6.2527e-02,\n",
       "           -3.0319e-02, -9.7066e-02],\n",
       "          [-3.7980e-01, -2.9099e-01,  1.1336e-01,  ...,  3.9175e-01,\n",
       "           -3.4638e-02, -5.3335e-01],\n",
       "          [-3.4778e-01, -3.5285e-01, -1.4510e-01,  ...,  5.8418e-01,\n",
       "           -1.0740e-01,  8.9918e-02],\n",
       "          ...,\n",
       "          [ 4.2263e-01, -5.0101e-01,  1.5319e-01,  ..., -4.0989e-03,\n",
       "            3.4162e-02,  4.5527e-01],\n",
       "          [ 4.1035e-02,  2.1387e-01,  3.6806e-01,  ..., -2.5146e-01,\n",
       "            2.2604e-02, -1.0557e-01],\n",
       "          [-2.3355e-01,  5.3069e-01, -1.2292e-01,  ..., -1.4746e-01,\n",
       "           -2.7239e-01,  1.4470e-01]],\n",
       "\n",
       "         ...,\n",
       "\n",
       "         [[-2.2591e-01, -1.0011e-01,  1.2859e-01,  ..., -3.0778e-02,\n",
       "           -3.7647e-01,  5.0466e-03],\n",
       "          [ 2.2643e-01,  2.3387e-01, -4.5449e-01,  ..., -2.5778e-01,\n",
       "            7.6742e-03, -1.9127e-02],\n",
       "          [-9.6644e-02,  1.9343e-01,  2.1626e-02,  ..., -4.6390e-01,\n",
       "           -1.7039e-01,  4.4710e-02],\n",
       "          ...,\n",
       "          [ 1.7628e-01,  3.4670e-02,  6.6893e-01,  ..., -9.7024e-02,\n",
       "           -1.1427e-01, -1.1123e-01],\n",
       "          [ 3.3064e-01, -2.1114e-02, -8.4668e-02,  ..., -2.1308e-01,\n",
       "           -3.9236e-02,  1.8813e-01],\n",
       "          [ 2.5134e-04, -4.5682e-02,  5.0416e-02,  ...,  1.3143e-01,\n",
       "            3.2756e-01,  1.8820e-01]],\n",
       "\n",
       "         [[ 2.0373e-01,  2.0373e-01,  1.9820e-01,  ..., -3.2183e-01,\n",
       "            5.6587e-01,  1.6759e-01],\n",
       "          [-4.0119e-01,  2.1066e-01,  1.5037e-01,  ..., -3.7743e-01,\n",
       "           -8.7662e-02,  5.1397e-02],\n",
       "          [-8.8743e-03, -1.9836e-01,  2.4615e-01,  ..., -1.5809e-01,\n",
       "           -3.2290e-01, -1.4497e-01],\n",
       "          ...,\n",
       "          [ 5.2372e-01,  1.9781e-01,  4.3354e-01,  ...,  4.7106e-01,\n",
       "           -1.6681e-01, -8.2180e-02],\n",
       "          [-4.5268e-03, -8.4453e-02,  8.5039e-02,  ..., -2.0578e-01,\n",
       "            3.9148e-02, -1.0460e-01],\n",
       "          [ 6.9870e-01, -1.0006e-01, -2.0243e-01,  ...,  2.1981e-01,\n",
       "           -8.8594e-02, -3.1739e-01]],\n",
       "\n",
       "         [[-8.5731e-01, -3.8977e-01,  2.1001e-01,  ...,  1.3546e-01,\n",
       "            8.8528e-02,  2.8611e-01],\n",
       "          [ 1.6037e-01,  1.4077e-01,  9.6915e-02,  ...,  2.0313e-01,\n",
       "            2.5145e-01,  4.7938e-02],\n",
       "          [-4.1152e-01,  5.4791e-02,  4.5357e-01,  ..., -2.9908e-02,\n",
       "           -7.7887e-01, -3.4009e-02],\n",
       "          ...,\n",
       "          [-1.7259e-01,  1.1719e-01,  2.7913e-01,  ...,  8.1850e-02,\n",
       "           -3.5229e-01, -8.4520e-02],\n",
       "          [-1.0929e-01, -7.3214e-02,  2.1146e-01,  ..., -1.0111e-01,\n",
       "            1.4208e-01,  1.6577e-01],\n",
       "          [ 8.2987e-02, -1.1205e-01,  2.8246e-01,  ..., -1.3829e-01,\n",
       "            1.0654e-01, -2.3549e-01]]]], grad_fn=<MulBackward0>)"
      ]
     },
     "execution_count": 51,
     "metadata": {},
     "output_type": "execute_result"
    }
   ],
   "source": [
    "\"\"\"\n",
    "    1. pool_h + pool_w pool the feature maps in two different ways\n",
    "    2. integrate the horizontal and veritical semantic info\n",
    "\"\"\"\n",
    "s = torch.randn(1, 512, 1024, 1024)\n",
    "coordatt = CoordAtt(inp=512, oup=512, reduction=32)\n",
    "coordatt(s)"
   ]
  },
  {
   "cell_type": "code",
   "execution_count": 52,
   "metadata": {},
   "outputs": [
    {
     "name": "stdout",
     "output_type": "stream",
     "text": [
      "torch.Size([1, 128, 1024, 1024])\n"
     ]
    }
   ],
   "source": [
    "# dot-mul + metric-mul\n",
    "tmp1 = torch.randn(1, 128, 1, 1024)\n",
    "tmp2 = torch.randn(1, 128, 1024, 1)\n",
    "print((torch.randn(1, 128, 1024, 1024) * tmp1 * tmp2).size())"
   ]
  },
  {
   "cell_type": "code",
   "execution_count": 53,
   "metadata": {},
   "outputs": [
    {
     "name": "stdout",
     "output_type": "stream",
     "text": [
      "tensor([[[[ 0.2637, -0.1923, -1.0151,  0.1154,  0.7724],\n",
      "          [-1.7421, -0.2755, -0.1362, -1.1723,  0.5523],\n",
      "          [ 0.8475,  0.5016, -0.2030,  0.0673,  0.9439],\n",
      "          [-1.5750,  1.3467, -0.4171,  0.7304,  0.0941],\n",
      "          [-1.3239,  0.1416,  0.2633, -0.5850,  0.5797]]]])\n"
     ]
    },
    {
     "data": {
      "text/plain": [
       "tensor([[[[ 0.4016, -0.1699, -1.2012,  0.2157,  1.0392],\n",
       "          [-2.1125, -0.2742, -0.0996, -1.3983,  0.7633],\n",
       "          [ 1.1333,  0.6998, -0.1834,  0.1554,  1.2542],\n",
       "          [-1.9030,  1.7590, -0.4518,  0.9866,  0.1890],\n",
       "          [-1.5884,  0.2485,  0.4011, -0.6622,  0.7977]]]],\n",
       "       grad_fn=<NativeBatchNormBackward0>)"
      ]
     },
     "execution_count": 53,
     "metadata": {},
     "output_type": "execute_result"
    }
   ],
   "source": [
    "tmp3 = torch.randn(1, 1, 5, 5)\n",
    "bn = nn.BatchNorm2d(1)\n",
    "print(tmp3)\n",
    "bn(tmp3)"
   ]
  }
 ],
 "metadata": {
  "kernelspec": {
   "display_name": "mmlab+gradio",
   "language": "python",
   "name": "python3"
  },
  "language_info": {
   "codemirror_mode": {
    "name": "ipython",
    "version": 3
   },
   "file_extension": ".py",
   "mimetype": "text/x-python",
   "name": "python",
   "nbconvert_exporter": "python",
   "pygments_lexer": "ipython3",
   "version": "3.8.19"
  }
 },
 "nbformat": 4,
 "nbformat_minor": 2
}
